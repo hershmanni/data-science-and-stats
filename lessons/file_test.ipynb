{
 "cells": [
  {
   "cell_type": "code",
   "execution_count": 1,
   "metadata": {},
   "outputs": [],
   "source": [
    "# This file will demo a different approach to handling file upload/image inspection that is not based on google.colab module. And works in mybinder.\n",
    "# Currently displaying an arbitrary number of images, but not handling interactions (like click and RGB of selected points."
   ]
  },
  {
   "cell_type": "code",
   "execution_count": 3,
   "metadata": {},
   "outputs": [],
   "source": [
    "from IPython.display import display\n",
    "import ipywidgets as wd"
   ]
  },
  {
   "cell_type": "code",
   "execution_count": 52,
   "metadata": {},
   "outputs": [
    {
     "data": {
      "application/vnd.jupyter.widget-view+json": {
       "model_id": "bf64fa60a66e4b63b4db3ab039d15919",
       "version_major": 2,
       "version_minor": 0
      },
      "text/plain": [
       "IntSlider(value=0)"
      ]
     },
     "metadata": {},
     "output_type": "display_data"
    },
    {
     "data": {
      "application/vnd.jupyter.widget-view+json": {
       "model_id": "1dff5787f7e04dd9be3190b0b8994cc5",
       "version_major": 2,
       "version_minor": 0
      },
      "text/plain": [
       "IntSlider(value=0)"
      ]
     },
     "metadata": {},
     "output_type": "display_data"
    },
    {
     "data": {
      "application/vnd.jupyter.widget-view+json": {
       "model_id": "e5bca60bceef4bd5bc0c4008d48a3896",
       "version_major": 2,
       "version_minor": 0
      },
      "text/plain": [
       "IntSlider(value=0)"
      ]
     },
     "metadata": {},
     "output_type": "display_data"
    }
   ],
   "source": [
    "r = wd.IntSlider()\n",
    "g = wd.IntSlider()\n",
    "b = wd.IntSlider()\n",
    "\n",
    "display(r)\n",
    "display(g)\n",
    "display(b)"
   ]
  },
  {
   "cell_type": "code",
   "execution_count": 80,
   "metadata": {},
   "outputs": [
    {
     "data": {
      "application/vnd.jupyter.widget-view+json": {
       "model_id": "8bdea89c6bbe4ebd84dc8e18351f95d2",
       "version_major": 2,
       "version_minor": 0
      },
      "text/plain": [
       "FileUpload(value={}, description='Upload', multiple=True)"
      ]
     },
     "metadata": {},
     "output_type": "display_data"
    }
   ],
   "source": [
    "my_file = wd.FileUpload(multiple=True)\n",
    "display(my_file)"
   ]
  },
  {
   "cell_type": "markdown",
   "metadata": {},
   "source": [
    "# Possibly see [this help](https://stackoverflow.com/questions/44329068/jupyter-notebook-interactive-plot-with-widgets)\n"
   ]
  },
  {
   "cell_type": "code",
   "execution_count": 81,
   "metadata": {},
   "outputs": [
    {
     "name": "stdout",
     "output_type": "stream",
     "text": [
      "{'name': '20210727_115238(1).jpg', 'type': 'image/jpeg', 'size': 1765919, 'lastModified': 1637296395116}\n",
      "{'name': '20210731_135040.jpg', 'type': 'image/jpeg', 'size': 356778, 'lastModified': 1637296380194}\n",
      "{'name': '20210731_135108.jpg', 'type': 'image/jpeg', 'size': 368720, 'lastModified': 1637296365945}\n",
      "{'name': '20211031_125558.jpg', 'type': 'image/jpeg', 'size': 648121, 'lastModified': 1637294805907}\n",
      "{'name': '20210726_150931.jpg', 'type': 'image/jpeg', 'size': 584919, 'lastModified': 1637294184471}\n",
      "20210727_115238(1).jpg\n"
     ]
    },
    {
     "data": {
      "application/vnd.jupyter.widget-view+json": {
       "model_id": "6fbf0d903c904684a916dc05f17c8411",
       "version_major": 2,
       "version_minor": 0
      },
      "text/plain": [
       "Image(value=b'\\xff\\xd8\\xff\\xe0\\x00\\x10JFIF\\x00\\x01\\x01\\x00\\x00\\x01\\x00\\x01\\x00\\x00\\xff\\xe1\\xcd3Exif\\x00\\x00II*…"
      ]
     },
     "metadata": {},
     "output_type": "display_data"
    },
    {
     "name": "stdout",
     "output_type": "stream",
     "text": [
      "20210731_135040.jpg\n"
     ]
    },
    {
     "data": {
      "application/vnd.jupyter.widget-view+json": {
       "model_id": "2acf623b59184757bed7a3d98f5e8e40",
       "version_major": 2,
       "version_minor": 0
      },
      "text/plain": [
       "Image(value=b'\\xff\\xd8\\xff\\xe0\\x00\\x10JFIF\\x00\\x01\\x01\\x00\\x00\\x01\\x00\\x01\\x00\\x00\\xff\\xe1\\x88,Exif\\x00\\x00II*…"
      ]
     },
     "metadata": {},
     "output_type": "display_data"
    },
    {
     "name": "stdout",
     "output_type": "stream",
     "text": [
      "20210731_135108.jpg\n"
     ]
    },
    {
     "data": {
      "application/vnd.jupyter.widget-view+json": {
       "model_id": "7766b1407e614ea3bb67283092eed813",
       "version_major": 2,
       "version_minor": 0
      },
      "text/plain": [
       "Image(value=b'\\xff\\xd8\\xff\\xe0\\x00\\x10JFIF\\x00\\x01\\x01\\x00\\x00\\x01\\x00\\x01\\x00\\x00\\xff\\xe1\\x8c/Exif\\x00\\x00II*…"
      ]
     },
     "metadata": {},
     "output_type": "display_data"
    },
    {
     "name": "stdout",
     "output_type": "stream",
     "text": [
      "20211031_125558.jpg\n"
     ]
    },
    {
     "data": {
      "application/vnd.jupyter.widget-view+json": {
       "model_id": "35cb33878d9c4468ae5090afa7d53fc6",
       "version_major": 2,
       "version_minor": 0
      },
      "text/plain": [
       "Image(value=b'\\xff\\xd8\\xff\\xe0\\x00\\x10JFIF\\x00\\x01\\x01\\x00\\x00\\x01\\x00\\x01\\x00\\x00\\xff\\xe1\\x03(Exif\\x00\\x00II*…"
      ]
     },
     "metadata": {},
     "output_type": "display_data"
    },
    {
     "name": "stdout",
     "output_type": "stream",
     "text": [
      "20210726_150931.jpg\n"
     ]
    },
    {
     "data": {
      "application/vnd.jupyter.widget-view+json": {
       "model_id": "8b54afb0f3c4440c83414b1494431b89",
       "version_major": 2,
       "version_minor": 0
      },
      "text/plain": [
       "Image(value=b'\\xff\\xd8\\xff\\xe0\\x00\\x10JFIF\\x00\\x01\\x01\\x00\\x00\\x01\\x00\\x01\\x00\\x00\\xff\\xe1\\xb4\\xf5Exif\\x00\\x00…"
      ]
     },
     "metadata": {},
     "output_type": "display_data"
    }
   ],
   "source": [
    "\n",
    "\n",
    "my_fnames = list(my_file.value.keys())\n",
    "\n",
    "my_fnames\n",
    "\n",
    "my_imgs = []\n",
    "for i in my_fnames:\n",
    "    my_imgs.append(my_file.value[i]['content'])\n",
    "\n",
    "len(my_imgs)\n",
    "\n",
    "for x in my_fnames:\n",
    "    print(my_file.value[x]['metadata'])\n",
    "    \n",
    "all_images = []\n",
    "\n",
    "for i in range(len(my_imgs)):\n",
    "    print(my_fnames[i])\n",
    "    \n",
    "    a = wd.Image(\n",
    "      value=my_imgs[i],\n",
    "      format='jpg', \n",
    "      width=300\n",
    "    )\n",
    "\n",
    "    display(a)\n",
    "    all_images.append(a)\n",
    "    \n",
    "    #RGB values..."
   ]
  }
 ],
 "metadata": {
  "kernelspec": {
   "display_name": "Python 3",
   "language": "python",
   "name": "python3"
  },
  "language_info": {
   "codemirror_mode": {
    "name": "ipython",
    "version": 3
   },
   "file_extension": ".py",
   "mimetype": "text/x-python",
   "name": "python",
   "nbconvert_exporter": "python",
   "pygments_lexer": "ipython3",
   "version": "3.7.4"
  }
 },
 "nbformat": 4,
 "nbformat_minor": 4
}
