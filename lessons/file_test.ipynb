# This file will demo a different approach to handling file upload/image inspection that is not based on google.colab module. And works in mybinder.
# TBD
