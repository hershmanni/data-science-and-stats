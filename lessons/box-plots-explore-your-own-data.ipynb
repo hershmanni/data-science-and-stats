{
 "cells": [
  {
   "cell_type": "markdown",
   "id": "3a234260",
   "metadata": {
    "_cell_guid": "b1076dfc-b9ad-4769-8c92-a6c4dae69d19",
    "_uuid": "8f2839f25d086af736a60e9eeb907d3b93b6e0e5",
    "papermill": {
     "duration": 0.018737,
     "end_time": "2021-10-09T15:26:11.719865",
     "exception": false,
     "start_time": "2021-10-09T15:26:11.701128",
     "status": "completed"
    },
    "tags": []
   },
   "source": [
    "# Data Analysis With Python\n",
    "Sometimes we need more powerful tools to analyze our data. We will be using the Python programming language and two amazingly powerful Python libraries called pandas and Matplotlib. \n",
    "\n",
    "Next to each cell you should see \\[ \\]. Click on this tab to run the cell and import these two packages. \n",
    "\n",
    "**To get started - click \"Copy & Edit\" and Sign-In With Google**"
   ]
  },
  {
   "cell_type": "code",
   "execution_count": 1,
   "id": "4279ec97",
   "metadata": {
    "execution": {
     "iopub.execute_input": "2021-10-09T15:26:11.767942Z",
     "iopub.status.busy": "2021-10-09T15:26:11.767177Z",
     "iopub.status.idle": "2021-10-09T15:26:11.774344Z",
     "shell.execute_reply": "2021-10-09T15:26:11.773699Z",
     "shell.execute_reply.started": "2021-09-30T18:59:12.471684Z"
    },
    "papermill": {
     "duration": 0.036943,
     "end_time": "2021-10-09T15:26:11.774553",
     "exception": false,
     "start_time": "2021-10-09T15:26:11.737610",
     "status": "completed"
    },
    "tags": []
   },
   "outputs": [],
   "source": [
    "# Import the package pandas and rename it in our code as pd\n",
    "import pandas as pd\n",
    "# Import the package matplotlib and rename it to plt\n",
    "import matplotlib.pyplot as plt"
   ]
  },
  {
   "cell_type": "markdown",
   "id": "8fc2912f",
   "metadata": {
    "papermill": {
     "duration": 0.01672,
     "end_time": "2021-10-09T15:26:11.808542",
     "exception": false,
     "start_time": "2021-10-09T15:26:11.791822",
     "status": "completed"
    },
    "tags": []
   },
   "source": [
    "We will be using the U.S. Census American Community Survey which consists of anonymized information about the lives of real Americans. \n",
    "\n",
    "Choose a state that you would like to explore! \n",
    "[Make sure to click the \\[\\] button next to the cell after making or changing your selection!\n",
    "\n",
    "1) Download both the household or person data for a particular state here:\n",
    "https://drive.google.com/drive/folders/1mDtm-BSxf0iK1Asn7kdfzYcDCZs2eltW?usp=sharing\n",
    "\n",
    "2) In the top right of the screen click \"+ Add data\" and upload the two files. Call your dataset \"census\". (Make sure that you have clicked Copy & Edit and signed in).\n",
    "\n",
    "3) Navigate to the two CSVs"
   ]
  },
  {
   "cell_type": "code",
   "execution_count": 2,
   "id": "d0a6af6d",
   "metadata": {
    "execution": {
     "iopub.execute_input": "2021-10-09T15:26:11.847225Z",
     "iopub.status.busy": "2021-10-09T15:26:11.846561Z",
     "iopub.status.idle": "2021-10-09T15:26:11.899274Z",
     "shell.execute_reply": "2021-10-09T15:26:11.898738Z",
     "shell.execute_reply.started": "2021-09-30T18:59:12.477262Z"
    },
    "papermill": {
     "duration": 0.07305,
     "end_time": "2021-10-09T15:26:11.899467",
     "exception": false,
     "start_time": "2021-10-09T15:26:11.826417",
     "status": "completed"
    },
    "tags": []
   },
   "outputs": [],
   "source": [
    "# This is for the Alaska dataset but update it to match what you chose!\n",
    "state_of_interest = \"Hawaii\"\n",
    "person_data = pd.read_csv(\"../input/d/youcubeddatascience/census/hi_person.csv\") # It should look something like this but you need to replace the link in red.\n",
    "household_data = pd.read_csv(\"../input/d/youcubeddatascience/census/hi_household.csv\")  # It should look something like this but you need to replace the link in red."
   ]
  },
  {
   "cell_type": "markdown",
   "id": "46d35b71",
   "metadata": {
    "papermill": {
     "duration": 0.016811,
     "end_time": "2021-10-09T15:26:11.933870",
     "exception": false,
     "start_time": "2021-10-09T15:26:11.917059",
     "status": "completed"
    },
    "tags": []
   },
   "source": [
    "The first step whenever you have a new dataset is to get a sense of which features (the columns like Age, Wages, etc) you have access to."
   ]
  },
  {
   "cell_type": "code",
   "execution_count": 3,
   "id": "5fb65eeb",
   "metadata": {
    "execution": {
     "iopub.execute_input": "2021-10-09T15:26:11.978502Z",
     "iopub.status.busy": "2021-10-09T15:26:11.977715Z",
     "iopub.status.idle": "2021-10-09T15:26:11.996486Z",
     "shell.execute_reply": "2021-10-09T15:26:11.997054Z",
     "shell.execute_reply.started": "2021-09-30T18:59:12.531565Z"
    },
    "papermill": {
     "duration": 0.045031,
     "end_time": "2021-10-09T15:26:11.997243",
     "exception": false,
     "start_time": "2021-10-09T15:26:11.952212",
     "status": "completed"
    },
    "tags": []
   },
   "outputs": [
    {
     "data": {
      "text/html": [
       "<div>\n",
       "<style scoped>\n",
       "    .dataframe tbody tr th:only-of-type {\n",
       "        vertical-align: middle;\n",
       "    }\n",
       "\n",
       "    .dataframe tbody tr th {\n",
       "        vertical-align: top;\n",
       "    }\n",
       "\n",
       "    .dataframe thead th {\n",
       "        text-align: right;\n",
       "    }\n",
       "</style>\n",
       "<table border=\"1\" class=\"dataframe\">\n",
       "  <thead>\n",
       "    <tr style=\"text-align: right;\">\n",
       "      <th></th>\n",
       "      <th>AgeInYears</th>\n",
       "      <th>TravelTimeToWorkInMinutes</th>\n",
       "      <th>NumberOfPeopleInCarpool</th>\n",
       "      <th>HoursWorkedWeeklyInPastYear</th>\n",
       "      <th>TotalIncomeInDollars</th>\n",
       "    </tr>\n",
       "  </thead>\n",
       "  <tbody>\n",
       "    <tr>\n",
       "      <th>0</th>\n",
       "      <td>41</td>\n",
       "      <td>5.0</td>\n",
       "      <td>1.0</td>\n",
       "      <td>40.0</td>\n",
       "      <td>40000.0</td>\n",
       "    </tr>\n",
       "    <tr>\n",
       "      <th>1</th>\n",
       "      <td>92</td>\n",
       "      <td>NaN</td>\n",
       "      <td>NaN</td>\n",
       "      <td>NaN</td>\n",
       "      <td>0.0</td>\n",
       "    </tr>\n",
       "    <tr>\n",
       "      <th>2</th>\n",
       "      <td>15</td>\n",
       "      <td>NaN</td>\n",
       "      <td>NaN</td>\n",
       "      <td>NaN</td>\n",
       "      <td>0.0</td>\n",
       "    </tr>\n",
       "    <tr>\n",
       "      <th>3</th>\n",
       "      <td>75</td>\n",
       "      <td>15.0</td>\n",
       "      <td>NaN</td>\n",
       "      <td>40.0</td>\n",
       "      <td>82400.0</td>\n",
       "    </tr>\n",
       "    <tr>\n",
       "      <th>4</th>\n",
       "      <td>7</td>\n",
       "      <td>NaN</td>\n",
       "      <td>NaN</td>\n",
       "      <td>NaN</td>\n",
       "      <td>NaN</td>\n",
       "    </tr>\n",
       "  </tbody>\n",
       "</table>\n",
       "</div>"
      ],
      "text/plain": [
       "   AgeInYears  TravelTimeToWorkInMinutes  NumberOfPeopleInCarpool  \\\n",
       "0          41                        5.0                      1.0   \n",
       "1          92                        NaN                      NaN   \n",
       "2          15                        NaN                      NaN   \n",
       "3          75                       15.0                      NaN   \n",
       "4           7                        NaN                      NaN   \n",
       "\n",
       "   HoursWorkedWeeklyInPastYear  TotalIncomeInDollars  \n",
       "0                         40.0               40000.0  \n",
       "1                          NaN                   0.0  \n",
       "2                          NaN                   0.0  \n",
       "3                         40.0               82400.0  \n",
       "4                          NaN                   NaN  "
      ]
     },
     "execution_count": 3,
     "metadata": {},
     "output_type": "execute_result"
    }
   ],
   "source": [
    "# Our microdata csv is now in the dataframe variable.\n",
    "# We can call the method \"head()\" on df to print out the first 5 rows.\n",
    "person_data.head()"
   ]
  },
  {
   "cell_type": "code",
   "execution_count": 4,
   "id": "3e373f65",
   "metadata": {
    "execution": {
     "iopub.execute_input": "2021-10-09T15:26:12.046574Z",
     "iopub.status.busy": "2021-10-09T15:26:12.045852Z",
     "iopub.status.idle": "2021-10-09T15:26:12.048661Z",
     "shell.execute_reply": "2021-10-09T15:26:12.049147Z",
     "shell.execute_reply.started": "2021-09-30T18:59:12.556504Z"
    },
    "papermill": {
     "duration": 0.03412,
     "end_time": "2021-10-09T15:26:12.049317",
     "exception": false,
     "start_time": "2021-10-09T15:26:12.015197",
     "status": "completed"
    },
    "tags": []
   },
   "outputs": [
    {
     "data": {
      "text/html": [
       "<div>\n",
       "<style scoped>\n",
       "    .dataframe tbody tr th:only-of-type {\n",
       "        vertical-align: middle;\n",
       "    }\n",
       "\n",
       "    .dataframe tbody tr th {\n",
       "        vertical-align: top;\n",
       "    }\n",
       "\n",
       "    .dataframe thead th {\n",
       "        text-align: right;\n",
       "    }\n",
       "</style>\n",
       "<table border=\"1\" class=\"dataframe\">\n",
       "  <thead>\n",
       "    <tr style=\"text-align: right;\">\n",
       "      <th></th>\n",
       "      <th>WaterCostInDollars</th>\n",
       "      <th>FireHazardFloodInsuranceYearlyCostInDollars</th>\n",
       "      <th>GrossRentAsPercentOfIncome</th>\n",
       "      <th>NumberOfChildrenInHousehold</th>\n",
       "      <th>NumberOfPeopleInHousehold</th>\n",
       "    </tr>\n",
       "  </thead>\n",
       "  <tbody>\n",
       "    <tr>\n",
       "      <th>0</th>\n",
       "      <td>1300.0</td>\n",
       "      <td>1000.0</td>\n",
       "      <td>NaN</td>\n",
       "      <td>0.0</td>\n",
       "      <td>2</td>\n",
       "    </tr>\n",
       "    <tr>\n",
       "      <th>1</th>\n",
       "      <td>NaN</td>\n",
       "      <td>1800.0</td>\n",
       "      <td>NaN</td>\n",
       "      <td>2.0</td>\n",
       "      <td>5</td>\n",
       "    </tr>\n",
       "    <tr>\n",
       "      <th>2</th>\n",
       "      <td>NaN</td>\n",
       "      <td>NaN</td>\n",
       "      <td>19.0</td>\n",
       "      <td>0.0</td>\n",
       "      <td>2</td>\n",
       "    </tr>\n",
       "    <tr>\n",
       "      <th>3</th>\n",
       "      <td>1200.0</td>\n",
       "      <td>1200.0</td>\n",
       "      <td>NaN</td>\n",
       "      <td>2.0</td>\n",
       "      <td>4</td>\n",
       "    </tr>\n",
       "    <tr>\n",
       "      <th>4</th>\n",
       "      <td>NaN</td>\n",
       "      <td>NaN</td>\n",
       "      <td>15.0</td>\n",
       "      <td>2.0</td>\n",
       "      <td>4</td>\n",
       "    </tr>\n",
       "  </tbody>\n",
       "</table>\n",
       "</div>"
      ],
      "text/plain": [
       "   WaterCostInDollars  FireHazardFloodInsuranceYearlyCostInDollars  \\\n",
       "0              1300.0                                       1000.0   \n",
       "1                 NaN                                       1800.0   \n",
       "2                 NaN                                          NaN   \n",
       "3              1200.0                                       1200.0   \n",
       "4                 NaN                                          NaN   \n",
       "\n",
       "   GrossRentAsPercentOfIncome  NumberOfChildrenInHousehold  \\\n",
       "0                         NaN                          0.0   \n",
       "1                         NaN                          2.0   \n",
       "2                        19.0                          0.0   \n",
       "3                         NaN                          2.0   \n",
       "4                        15.0                          2.0   \n",
       "\n",
       "   NumberOfPeopleInHousehold  \n",
       "0                          2  \n",
       "1                          5  \n",
       "2                          2  \n",
       "3                          4  \n",
       "4                          4  "
      ]
     },
     "execution_count": 4,
     "metadata": {},
     "output_type": "execute_result"
    }
   ],
   "source": [
    "household_data.head()"
   ]
  },
  {
   "cell_type": "markdown",
   "id": "5be8c7fd",
   "metadata": {
    "papermill": {
     "duration": 0.019618,
     "end_time": "2021-10-09T15:26:12.089073",
     "exception": false,
     "start_time": "2021-10-09T15:26:12.069455",
     "status": "completed"
    },
    "tags": []
   },
   "source": [
    "Let's explore the distribution of one of the variables of our data. Choose one of the variables from the dropdown and then run the rest of the code!\n",
    "\n",
    "Make sure to remember to run the \\[ \\] next to the dropdown and all code if you want to update it."
   ]
  },
  {
   "cell_type": "code",
   "execution_count": 5,
   "id": "6fbeba96",
   "metadata": {
    "execution": {
     "iopub.execute_input": "2021-10-09T15:26:12.129506Z",
     "iopub.status.busy": "2021-10-09T15:26:12.128722Z",
     "iopub.status.idle": "2021-10-09T15:26:12.133368Z",
     "shell.execute_reply": "2021-10-09T15:26:12.133956Z",
     "shell.execute_reply.started": "2021-09-30T18:59:12.572897Z"
    },
    "papermill": {
     "duration": 0.026915,
     "end_time": "2021-10-09T15:26:12.134134",
     "exception": false,
     "start_time": "2021-10-09T15:26:12.107219",
     "status": "completed"
    },
    "tags": []
   },
   "outputs": [],
   "source": [
    "variable_to_explore = \"WaterCostInDollars\"\n",
    "\n",
    "df = household_data if variable_to_explore in household_data.columns else person_data"
   ]
  },
  {
   "cell_type": "markdown",
   "id": "7278a331",
   "metadata": {
    "papermill": {
     "duration": 0.018961,
     "end_time": "2021-10-09T15:26:12.171226",
     "exception": false,
     "start_time": "2021-10-09T15:26:12.152265",
     "status": "completed"
    },
    "tags": []
   },
   "source": [
    "# Old Tools\n",
    "We still have access to all the same statistical tools and tests that we have been used to! Let's explore those."
   ]
  },
  {
   "cell_type": "code",
   "execution_count": 6,
   "id": "10de7295",
   "metadata": {
    "execution": {
     "iopub.execute_input": "2021-10-09T15:26:12.211286Z",
     "iopub.status.busy": "2021-10-09T15:26:12.210594Z",
     "iopub.status.idle": "2021-10-09T15:26:12.234065Z",
     "shell.execute_reply": "2021-10-09T15:26:12.234689Z",
     "shell.execute_reply.started": "2021-09-30T18:59:12.579148Z"
    },
    "papermill": {
     "duration": 0.045446,
     "end_time": "2021-10-09T15:26:12.234888",
     "exception": false,
     "start_time": "2021-10-09T15:26:12.189442",
     "status": "completed"
    },
    "tags": []
   },
   "outputs": [
    {
     "name": "stdout",
     "output_type": "stream",
     "text": [
      "Mean of WaterCostInDollars is 1020.62\n",
      "\n",
      "Median of WaterCostInDollars is 800.0\n",
      "\n",
      "Mode of WaterCostInDollars is 1200.0\n",
      "\n",
      "Quartiles of WaterCostInDollars are 4.0, 200.0, 1600.0, 4400.0\n",
      "\n"
     ]
    }
   ],
   "source": [
    "# Calculate and print the mean.\n",
    "mean = df[variable_to_explore].mean()\n",
    "print(f\"Mean of {variable_to_explore} is {round(mean,3)}\\n\")\n",
    "\n",
    "# Calculate and print the median.\n",
    "median = df[variable_to_explore].median()\n",
    "print(f\"Median of {variable_to_explore} is {round(median,3)}\\n\")\n",
    "\n",
    "# Calculate and print the mode.\n",
    "mode = float(df[variable_to_explore].mode())\n",
    "print(f\"Mode of {variable_to_explore} is {round(mode,3)}\\n\")\n",
    "\n",
    "# Calculate the quartiles\n",
    "minv = float(df[variable_to_explore].min())\n",
    "q2 = float(df[variable_to_explore].quantile(q=0.25))\n",
    "q3 = float(df[variable_to_explore].quantile(q=0.75))\n",
    "maxv = float(df[variable_to_explore].max())\n",
    "print(f\"Quartiles of {variable_to_explore} are {round(minv, 3)}, {round(q2, 3)}, {round(q3, 3)}, {round(maxv, 3)}\\n\")"
   ]
  },
  {
   "cell_type": "markdown",
   "id": "b9b09bb9",
   "metadata": {
    "papermill": {
     "duration": 0.018101,
     "end_time": "2021-10-09T15:26:12.271285",
     "exception": false,
     "start_time": "2021-10-09T15:26:12.253184",
     "status": "completed"
    },
    "tags": []
   },
   "source": [
    "# When excel won't cut it.\n",
    "Sometimes we need even more powerful graphical or statistical tools. Let's see what we can do in python! "
   ]
  },
  {
   "cell_type": "markdown",
   "id": "7d5b4614",
   "metadata": {
    "papermill": {
     "duration": 0.018206,
     "end_time": "2021-10-09T15:26:12.307940",
     "exception": false,
     "start_time": "2021-10-09T15:26:12.289734",
     "status": "completed"
    },
    "tags": []
   },
   "source": [
    "# Easily explore all 5-number summaries."
   ]
  },
  {
   "cell_type": "code",
   "execution_count": 7,
   "id": "24d53f52",
   "metadata": {
    "execution": {
     "iopub.execute_input": "2021-10-09T15:26:12.349907Z",
     "iopub.status.busy": "2021-10-09T15:26:12.349240Z",
     "iopub.status.idle": "2021-10-09T15:26:12.389853Z",
     "shell.execute_reply": "2021-10-09T15:26:12.390359Z",
     "shell.execute_reply.started": "2021-09-30T18:59:12.604666Z"
    },
    "papermill": {
     "duration": 0.063828,
     "end_time": "2021-10-09T15:26:12.390573",
     "exception": false,
     "start_time": "2021-10-09T15:26:12.326745",
     "status": "completed"
    },
    "tags": []
   },
   "outputs": [
    {
     "data": {
      "text/html": [
       "<div>\n",
       "<style scoped>\n",
       "    .dataframe tbody tr th:only-of-type {\n",
       "        vertical-align: middle;\n",
       "    }\n",
       "\n",
       "    .dataframe tbody tr th {\n",
       "        vertical-align: top;\n",
       "    }\n",
       "\n",
       "    .dataframe thead th {\n",
       "        text-align: right;\n",
       "    }\n",
       "</style>\n",
       "<table border=\"1\" class=\"dataframe\">\n",
       "  <thead>\n",
       "    <tr style=\"text-align: right;\">\n",
       "      <th></th>\n",
       "      <th>AgeInYears</th>\n",
       "      <th>TravelTimeToWorkInMinutes</th>\n",
       "      <th>NumberOfPeopleInCarpool</th>\n",
       "      <th>HoursWorkedWeeklyInPastYear</th>\n",
       "      <th>TotalIncomeInDollars</th>\n",
       "    </tr>\n",
       "  </thead>\n",
       "  <tbody>\n",
       "    <tr>\n",
       "      <th>count</th>\n",
       "      <td>14228.000000</td>\n",
       "      <td>6568.000000</td>\n",
       "      <td>5721.000000</td>\n",
       "      <td>7662.000000</td>\n",
       "      <td>12135.000000</td>\n",
       "    </tr>\n",
       "    <tr>\n",
       "      <th>mean</th>\n",
       "      <td>43.667908</td>\n",
       "      <td>27.902862</td>\n",
       "      <td>1.275651</td>\n",
       "      <td>38.364657</td>\n",
       "      <td>45798.695674</td>\n",
       "    </tr>\n",
       "    <tr>\n",
       "      <th>std</th>\n",
       "      <td>24.051373</td>\n",
       "      <td>22.828757</td>\n",
       "      <td>0.741655</td>\n",
       "      <td>13.392400</td>\n",
       "      <td>57234.055190</td>\n",
       "    </tr>\n",
       "    <tr>\n",
       "      <th>min</th>\n",
       "      <td>0.000000</td>\n",
       "      <td>1.000000</td>\n",
       "      <td>1.000000</td>\n",
       "      <td>1.000000</td>\n",
       "      <td>-5800.000000</td>\n",
       "    </tr>\n",
       "    <tr>\n",
       "      <th>25%</th>\n",
       "      <td>23.000000</td>\n",
       "      <td>15.000000</td>\n",
       "      <td>1.000000</td>\n",
       "      <td>35.000000</td>\n",
       "      <td>10000.000000</td>\n",
       "    </tr>\n",
       "    <tr>\n",
       "      <th>50%</th>\n",
       "      <td>45.000000</td>\n",
       "      <td>20.000000</td>\n",
       "      <td>1.000000</td>\n",
       "      <td>40.000000</td>\n",
       "      <td>30000.000000</td>\n",
       "    </tr>\n",
       "    <tr>\n",
       "      <th>75%</th>\n",
       "      <td>63.000000</td>\n",
       "      <td>35.000000</td>\n",
       "      <td>1.000000</td>\n",
       "      <td>40.000000</td>\n",
       "      <td>60100.000000</td>\n",
       "    </tr>\n",
       "    <tr>\n",
       "      <th>max</th>\n",
       "      <td>95.000000</td>\n",
       "      <td>145.000000</td>\n",
       "      <td>10.000000</td>\n",
       "      <td>99.000000</td>\n",
       "      <td>710500.000000</td>\n",
       "    </tr>\n",
       "  </tbody>\n",
       "</table>\n",
       "</div>"
      ],
      "text/plain": [
       "         AgeInYears  TravelTimeToWorkInMinutes  NumberOfPeopleInCarpool  \\\n",
       "count  14228.000000                6568.000000              5721.000000   \n",
       "mean      43.667908                  27.902862                 1.275651   \n",
       "std       24.051373                  22.828757                 0.741655   \n",
       "min        0.000000                   1.000000                 1.000000   \n",
       "25%       23.000000                  15.000000                 1.000000   \n",
       "50%       45.000000                  20.000000                 1.000000   \n",
       "75%       63.000000                  35.000000                 1.000000   \n",
       "max       95.000000                 145.000000                10.000000   \n",
       "\n",
       "       HoursWorkedWeeklyInPastYear  TotalIncomeInDollars  \n",
       "count                  7662.000000          12135.000000  \n",
       "mean                     38.364657          45798.695674  \n",
       "std                      13.392400          57234.055190  \n",
       "min                       1.000000          -5800.000000  \n",
       "25%                      35.000000          10000.000000  \n",
       "50%                      40.000000          30000.000000  \n",
       "75%                      40.000000          60100.000000  \n",
       "max                      99.000000         710500.000000  "
      ]
     },
     "execution_count": 7,
     "metadata": {},
     "output_type": "execute_result"
    }
   ],
   "source": [
    "person_data.describe()"
   ]
  },
  {
   "cell_type": "code",
   "execution_count": 8,
   "id": "825dd7ef",
   "metadata": {
    "execution": {
     "iopub.execute_input": "2021-10-09T15:26:12.438074Z",
     "iopub.status.busy": "2021-10-09T15:26:12.437024Z",
     "iopub.status.idle": "2021-10-09T15:26:12.461498Z",
     "shell.execute_reply": "2021-10-09T15:26:12.460921Z",
     "shell.execute_reply.started": "2021-09-30T18:59:12.643522Z"
    },
    "papermill": {
     "duration": 0.051574,
     "end_time": "2021-10-09T15:26:12.461663",
     "exception": false,
     "start_time": "2021-10-09T15:26:12.410089",
     "status": "completed"
    },
    "tags": []
   },
   "outputs": [
    {
     "data": {
      "text/html": [
       "<div>\n",
       "<style scoped>\n",
       "    .dataframe tbody tr th:only-of-type {\n",
       "        vertical-align: middle;\n",
       "    }\n",
       "\n",
       "    .dataframe tbody tr th {\n",
       "        vertical-align: top;\n",
       "    }\n",
       "\n",
       "    .dataframe thead th {\n",
       "        text-align: right;\n",
       "    }\n",
       "</style>\n",
       "<table border=\"1\" class=\"dataframe\">\n",
       "  <thead>\n",
       "    <tr style=\"text-align: right;\">\n",
       "      <th></th>\n",
       "      <th>WaterCostInDollars</th>\n",
       "      <th>FireHazardFloodInsuranceYearlyCostInDollars</th>\n",
       "      <th>GrossRentAsPercentOfIncome</th>\n",
       "      <th>NumberOfChildrenInHousehold</th>\n",
       "      <th>NumberOfPeopleInHousehold</th>\n",
       "    </tr>\n",
       "  </thead>\n",
       "  <tbody>\n",
       "    <tr>\n",
       "      <th>count</th>\n",
       "      <td>3012.000000</td>\n",
       "      <td>3282.000000</td>\n",
       "      <td>1470.000000</td>\n",
       "      <td>4885.000000</td>\n",
       "      <td>6335.000000</td>\n",
       "    </tr>\n",
       "    <tr>\n",
       "      <th>mean</th>\n",
       "      <td>1020.620186</td>\n",
       "      <td>1338.282145</td>\n",
       "      <td>40.771429</td>\n",
       "      <td>0.387103</td>\n",
       "      <td>2.245935</td>\n",
       "    </tr>\n",
       "    <tr>\n",
       "      <th>std</th>\n",
       "      <td>919.453969</td>\n",
       "      <td>1410.621396</td>\n",
       "      <td>27.460042</td>\n",
       "      <td>0.857470</td>\n",
       "      <td>1.839676</td>\n",
       "    </tr>\n",
       "    <tr>\n",
       "      <th>min</th>\n",
       "      <td>4.000000</td>\n",
       "      <td>0.000000</td>\n",
       "      <td>1.000000</td>\n",
       "      <td>0.000000</td>\n",
       "      <td>0.000000</td>\n",
       "    </tr>\n",
       "    <tr>\n",
       "      <th>25%</th>\n",
       "      <td>200.000000</td>\n",
       "      <td>400.000000</td>\n",
       "      <td>21.000000</td>\n",
       "      <td>0.000000</td>\n",
       "      <td>1.000000</td>\n",
       "    </tr>\n",
       "    <tr>\n",
       "      <th>50%</th>\n",
       "      <td>800.000000</td>\n",
       "      <td>1000.000000</td>\n",
       "      <td>31.000000</td>\n",
       "      <td>0.000000</td>\n",
       "      <td>2.000000</td>\n",
       "    </tr>\n",
       "    <tr>\n",
       "      <th>75%</th>\n",
       "      <td>1600.000000</td>\n",
       "      <td>1900.000000</td>\n",
       "      <td>53.000000</td>\n",
       "      <td>0.000000</td>\n",
       "      <td>3.000000</td>\n",
       "    </tr>\n",
       "    <tr>\n",
       "      <th>max</th>\n",
       "      <td>4400.000000</td>\n",
       "      <td>8800.000000</td>\n",
       "      <td>101.000000</td>\n",
       "      <td>7.000000</td>\n",
       "      <td>18.000000</td>\n",
       "    </tr>\n",
       "  </tbody>\n",
       "</table>\n",
       "</div>"
      ],
      "text/plain": [
       "       WaterCostInDollars  FireHazardFloodInsuranceYearlyCostInDollars  \\\n",
       "count         3012.000000                                  3282.000000   \n",
       "mean          1020.620186                                  1338.282145   \n",
       "std            919.453969                                  1410.621396   \n",
       "min              4.000000                                     0.000000   \n",
       "25%            200.000000                                   400.000000   \n",
       "50%            800.000000                                  1000.000000   \n",
       "75%           1600.000000                                  1900.000000   \n",
       "max           4400.000000                                  8800.000000   \n",
       "\n",
       "       GrossRentAsPercentOfIncome  NumberOfChildrenInHousehold  \\\n",
       "count                 1470.000000                  4885.000000   \n",
       "mean                    40.771429                     0.387103   \n",
       "std                     27.460042                     0.857470   \n",
       "min                      1.000000                     0.000000   \n",
       "25%                     21.000000                     0.000000   \n",
       "50%                     31.000000                     0.000000   \n",
       "75%                     53.000000                     0.000000   \n",
       "max                    101.000000                     7.000000   \n",
       "\n",
       "       NumberOfPeopleInHousehold  \n",
       "count                6335.000000  \n",
       "mean                    2.245935  \n",
       "std                     1.839676  \n",
       "min                     0.000000  \n",
       "25%                     1.000000  \n",
       "50%                     2.000000  \n",
       "75%                     3.000000  \n",
       "max                    18.000000  "
      ]
     },
     "execution_count": 8,
     "metadata": {},
     "output_type": "execute_result"
    }
   ],
   "source": [
    "household_data.describe()"
   ]
  },
  {
   "cell_type": "markdown",
   "id": "fa76a6f4",
   "metadata": {
    "papermill": {
     "duration": 0.019558,
     "end_time": "2021-10-09T15:26:12.501066",
     "exception": false,
     "start_time": "2021-10-09T15:26:12.481508",
     "status": "completed"
    },
    "tags": []
   },
   "source": [
    "# Visualize our results"
   ]
  },
  {
   "cell_type": "code",
   "execution_count": 9,
   "id": "d5929357",
   "metadata": {
    "execution": {
     "iopub.execute_input": "2021-10-09T15:26:12.547372Z",
     "iopub.status.busy": "2021-10-09T15:26:12.546661Z",
     "iopub.status.idle": "2021-10-09T15:26:12.549284Z",
     "shell.execute_reply": "2021-10-09T15:26:12.549787Z",
     "shell.execute_reply.started": "2021-09-30T18:59:12.672046Z"
    },
    "papermill": {
     "duration": 0.029136,
     "end_time": "2021-10-09T15:26:12.550002",
     "exception": false,
     "start_time": "2021-10-09T15:26:12.520866",
     "status": "completed"
    },
    "tags": []
   },
   "outputs": [],
   "source": [
    "# Config - feel free to change these!\n",
    "include_outliers = False\n",
    "num_bins = 50\n",
    "# Only change these if you are bold...\n",
    "symbol = 'X' if include_outliers else ''\n",
    "bounds = (5, 95) if include_outliers else (0,100)"
   ]
  },
  {
   "cell_type": "code",
   "execution_count": 10,
   "id": "985ba4c6",
   "metadata": {
    "execution": {
     "iopub.execute_input": "2021-10-09T15:26:12.600431Z",
     "iopub.status.busy": "2021-10-09T15:26:12.593716Z",
     "iopub.status.idle": "2021-10-09T15:26:13.127006Z",
     "shell.execute_reply": "2021-10-09T15:26:13.126338Z",
     "shell.execute_reply.started": "2021-09-30T18:59:12.679227Z"
    },
    "papermill": {
     "duration": 0.557109,
     "end_time": "2021-10-09T15:26:13.127166",
     "exception": false,
     "start_time": "2021-10-09T15:26:12.570057",
     "status": "completed"
    },
    "tags": []
   },
   "outputs": [
    {
     "data": {
      "image/png": "[encoded data removed]",
      "text/plain": [
       "<Figure size 432x288 with 1 Axes>"
      ]
     },
     "metadata": {
      "needs_background": "light"
     },
     "output_type": "display_data"
    },
    {
     "data": {
      "image/png": "[encoded data removed]",
      "text/plain": [
       "<Figure size 432x288 with 1 Axes>"
      ]
     },
     "metadata": {
      "needs_background": "light"
     },
     "output_type": "display_data"
    }
   ],
   "source": [
    "# Define the range of the Y axis\n",
    "ranges = [df[variable_to_explore].min() - 5, df[variable_to_explore].max() + 5]\n",
    "\n",
    "# Create the box and whiskers (boxplot)\n",
    "plt.boxplot(df[variable_to_explore].dropna(), vert=False, sym=symbol, whis=bounds)\n",
    "plt.title(f\"Boxplot of {variable_to_explore} in {state_of_interest}\")\n",
    "plt.ylabel(\"Distribution\")\n",
    "plt.xlabel(variable_to_explore)\n",
    "plt.yticks(ticks=[1], labels=[\"100\"])\n",
    "plt.xlim(ranges)\n",
    "plt.show()\n",
    "\n",
    "# Create the histogram\n",
    "plt.hist(df[variable_to_explore], bins=num_bins)\n",
    "plt.title(f\"Histogram of {variable_to_explore} in {state_of_interest}\")\n",
    "plt.ylabel(\"Count in Bin\")\n",
    "plt.xlabel(variable_to_explore)\n",
    "plt.xlim(ranges)\n",
    "plt.show()"
   ]
  },
  {
   "cell_type": "markdown",
   "id": "f39025bc",
   "metadata": {
    "papermill": {
     "duration": 0.021748,
     "end_time": "2021-10-09T15:26:13.170495",
     "exception": false,
     "start_time": "2021-10-09T15:26:13.148747",
     "status": "completed"
    },
    "tags": []
   },
   "source": [
    "# Explore your data!\n",
    "Let's see how these state-wide results compare to your survey results. \n",
    "\n",
    "1.   Make sure that the column names that you collected match the ones used in this Colab: WaterCostInDollars, FireHazardFloodInsuranceYearlyCostInDollars, GrossRentAsPercentOfIncome, NumberOfChildrenInHousehold,NumberOfPeopleInHousehold, AgeInYears, TravelTimeToWorkInMinutes, NumberOfPeopleInCarpool, HoursWorkedWeeklyInPastYear, TotalIncomeInDollars\n",
    "2.   Download your data as CSV! In your Google Sheet, select File -> Download -> Comma separated values (CSV)\n",
    "3.   In the top right of the screen click \"+ Add data\" and upload your survey data. Call your dataset \"mysurvey\".\n",
    "4.   Find the data in the top right under the \"input\" folder and copy the link below."
   ]
  },
  {
   "cell_type": "code",
   "execution_count": 11,
   "id": "64b03202",
   "metadata": {
    "execution": {
     "iopub.execute_input": "2021-10-09T15:26:13.215722Z",
     "iopub.status.busy": "2021-10-09T15:26:13.215077Z",
     "iopub.status.idle": "2021-10-09T15:26:13.228964Z",
     "shell.execute_reply": "2021-10-09T15:26:13.229518Z",
     "shell.execute_reply.started": "2021-09-30T18:59:47.139259Z"
    },
    "papermill": {
     "duration": 0.038373,
     "end_time": "2021-10-09T15:26:13.229697",
     "exception": false,
     "start_time": "2021-10-09T15:26:13.191324",
     "status": "completed"
    },
    "tags": []
   },
   "outputs": [],
   "source": [
    "# TODO copy your survey link below from the top right! \n",
    "user_data = pd.read_csv(\"../input/d/youcubeddatascience/mysurvey/mysurvey.csv\") # [it should look similar to this but you need to update this link] \n",
    "\n",
    "# Put your name here to customize the graphs! \n",
    "student_name = \"Student\""
   ]
  },
  {
   "cell_type": "markdown",
   "id": "de006169",
   "metadata": {
    "papermill": {
     "duration": 0.020489,
     "end_time": "2021-10-09T15:26:13.271071",
     "exception": false,
     "start_time": "2021-10-09T15:26:13.250582",
     "status": "completed"
    },
    "tags": []
   },
   "source": [
    "# Explore your data!"
   ]
  },
  {
   "cell_type": "code",
   "execution_count": 12,
   "id": "56815fed",
   "metadata": {
    "execution": {
     "iopub.execute_input": "2021-10-09T15:26:13.325655Z",
     "iopub.status.busy": "2021-10-09T15:26:13.324872Z",
     "iopub.status.idle": "2021-10-09T15:26:13.328127Z",
     "shell.execute_reply": "2021-10-09T15:26:13.328632Z",
     "shell.execute_reply.started": "2021-09-30T18:59:51.265097Z"
    },
    "papermill": {
     "duration": 0.03697,
     "end_time": "2021-10-09T15:26:13.328807",
     "exception": false,
     "start_time": "2021-10-09T15:26:13.291837",
     "status": "completed"
    },
    "tags": []
   },
   "outputs": [
    {
     "data": {
      "text/html": [
       "<div>\n",
       "<style scoped>\n",
       "    .dataframe tbody tr th:only-of-type {\n",
       "        vertical-align: middle;\n",
       "    }\n",
       "\n",
       "    .dataframe tbody tr th {\n",
       "        vertical-align: top;\n",
       "    }\n",
       "\n",
       "    .dataframe thead th {\n",
       "        text-align: right;\n",
       "    }\n",
       "</style>\n",
       "<table border=\"1\" class=\"dataframe\">\n",
       "  <thead>\n",
       "    <tr style=\"text-align: right;\">\n",
       "      <th></th>\n",
       "      <th>WaterCostInDollars</th>\n",
       "      <th>GrossRentAsPercentOfIncome</th>\n",
       "      <th>NumberOfPeopleInHousehold</th>\n",
       "      <th>NumberOfChildrenInHousehold</th>\n",
       "    </tr>\n",
       "  </thead>\n",
       "  <tbody>\n",
       "    <tr>\n",
       "      <th>0</th>\n",
       "      <td>550.190034</td>\n",
       "      <td>0.413189</td>\n",
       "      <td>1</td>\n",
       "      <td>0</td>\n",
       "    </tr>\n",
       "    <tr>\n",
       "      <th>1</th>\n",
       "      <td>531.758317</td>\n",
       "      <td>0.474558</td>\n",
       "      <td>1</td>\n",
       "      <td>0</td>\n",
       "    </tr>\n",
       "    <tr>\n",
       "      <th>2</th>\n",
       "      <td>652.352468</td>\n",
       "      <td>0.479970</td>\n",
       "      <td>4</td>\n",
       "      <td>1</td>\n",
       "    </tr>\n",
       "    <tr>\n",
       "      <th>3</th>\n",
       "      <td>618.611921</td>\n",
       "      <td>0.445821</td>\n",
       "      <td>2</td>\n",
       "      <td>0</td>\n",
       "    </tr>\n",
       "    <tr>\n",
       "      <th>4</th>\n",
       "      <td>621.165929</td>\n",
       "      <td>0.433614</td>\n",
       "      <td>1</td>\n",
       "      <td>0</td>\n",
       "    </tr>\n",
       "  </tbody>\n",
       "</table>\n",
       "</div>"
      ],
      "text/plain": [
       "   WaterCostInDollars  GrossRentAsPercentOfIncome  NumberOfPeopleInHousehold  \\\n",
       "0          550.190034                    0.413189                          1   \n",
       "1          531.758317                    0.474558                          1   \n",
       "2          652.352468                    0.479970                          4   \n",
       "3          618.611921                    0.445821                          2   \n",
       "4          621.165929                    0.433614                          1   \n",
       "\n",
       "   NumberOfChildrenInHousehold  \n",
       "0                            0  \n",
       "1                            0  \n",
       "2                            1  \n",
       "3                            0  \n",
       "4                            0  "
      ]
     },
     "execution_count": 12,
     "metadata": {},
     "output_type": "execute_result"
    }
   ],
   "source": [
    "user_data.head()"
   ]
  },
  {
   "cell_type": "code",
   "execution_count": 13,
   "id": "04d06c80",
   "metadata": {
    "execution": {
     "iopub.execute_input": "2021-10-09T15:26:13.377914Z",
     "iopub.status.busy": "2021-10-09T15:26:13.377148Z",
     "iopub.status.idle": "2021-10-09T15:26:13.381709Z",
     "shell.execute_reply": "2021-10-09T15:26:13.381024Z",
     "shell.execute_reply.started": "2021-09-30T18:59:53.52481Z"
    },
    "papermill": {
     "duration": 0.029156,
     "end_time": "2021-10-09T15:26:13.381867",
     "exception": false,
     "start_time": "2021-10-09T15:26:13.352711",
     "status": "completed"
    },
    "tags": []
   },
   "outputs": [],
   "source": [
    "variable_to_explore = \"NumberOfPeopleInHousehold\""
   ]
  },
  {
   "cell_type": "code",
   "execution_count": 14,
   "id": "928c8045",
   "metadata": {
    "execution": {
     "iopub.execute_input": "2021-10-09T15:26:13.435488Z",
     "iopub.status.busy": "2021-10-09T15:26:13.434762Z",
     "iopub.status.idle": "2021-10-09T15:26:14.044248Z",
     "shell.execute_reply": "2021-10-09T15:26:14.043610Z",
     "shell.execute_reply.started": "2021-09-30T18:59:54.631305Z"
    },
    "papermill": {
     "duration": 0.640262,
     "end_time": "2021-10-09T15:26:14.044448",
     "exception": false,
     "start_time": "2021-10-09T15:26:13.404186",
     "status": "completed"
    },
    "tags": []
   },
   "outputs": [
    {
     "name": "stdout",
     "output_type": "stream",
     "text": [
      "Distribution of NumberOfPeopleInHousehold in Hawaii (Top) vs Student's Survey (Bottom)\n"
     ]
    },
    {
     "data": {
      "image/png": "[encoded data removed]",
      "text/plain": [
       "<Figure size 432x288 with 4 Axes>"
      ]
     },
     "metadata": {
      "needs_background": "light"
     },
     "output_type": "display_data"
    }
   ],
   "source": [
    "if variable_to_explore not in user_data.columns:\n",
    "    print(f\"You do not have {variable_to_explore} in your Sheet! Double check that it matches exactly and then reupload your file!\")\n",
    "else:\n",
    "    fig, axs = plt.subplots(2, 2)\n",
    "\n",
    "    def label_axes(axes, graph_type, transition_word, location, ranges):\n",
    "        # axes.title.set_text(f\"{graph_type} of {variable_to_explore} {transition_word} {location}\")\n",
    "        # axes.set_xlabel(variable_to_explore)\n",
    "        axes.set_xlim(ranges)\n",
    "\n",
    "    # Calculate shared range.\n",
    "    ranges = [min(df[variable_to_explore].min(), user_data[variable_to_explore].min()) - 5,\n",
    "            max(df[variable_to_explore].max(), user_data[variable_to_explore].max()) + 5]\n",
    "    # Create various plots.\n",
    "    state_data_for_var = df[variable_to_explore].dropna()\n",
    "    user_data_for_var = user_data[variable_to_explore].dropna()\n",
    "    print(f\"Distribution of {variable_to_explore} in {state_of_interest} (Top) vs {student_name}'s Survey (Bottom)\")\n",
    "    axs[0, 0].boxplot(state_data_for_var, vert=False, sym=symbol, whis=bounds)\n",
    "    label_axes(axs[0, 0], \"Boxplot\", \"in\", state_of_interest, ranges) \n",
    "    axs[0, 1].hist(state_data_for_var, bins=num_bins)\n",
    "    label_axes(axs[0, 1], \"Histogram\", \"in\", state_of_interest, ranges) \n",
    "    axs[1, 0].boxplot(user_data_for_var, vert=False, sym=symbol, whis=bounds)\n",
    "    label_axes(axs[1, 0], \"Boxplot\", student_name + \"'s Survey\", \"for\", ranges) \n",
    "    axs[1, 1].hist(user_data_for_var, bins=num_bins)\n",
    "    label_axes(axs[1, 1], \"Histogram\", student_name + \"'s Survey\", \"for\", ranges) "
   ]
  }
 ],
 "metadata": {
  "kernelspec": {
   "display_name": "Python 3",
   "language": "python",
   "name": "python3"
  },
  "language_info": {
   "codemirror_mode": {
    "name": "ipython",
    "version": 3
   },
   "file_extension": ".py",
   "mimetype": "text/x-python",
   "name": "python",
   "nbconvert_exporter": "python",
   "pygments_lexer": "ipython3",
   "version": "3.7.10"
  },
  "papermill": {
   "default_parameters": {},
   "duration": 12.80953,
   "end_time": "2021-10-09T15:26:15.862057",
   "environment_variables": {},
   "exception": null,
   "input_path": "__notebook__.ipynb",
   "output_path": "__notebook__.ipynb",
   "parameters": {},
   "start_time": "2021-10-09T15:26:03.052527",
   "version": "2.3.3"
  }
 },
 "nbformat": 4,
 "nbformat_minor": 5
}
